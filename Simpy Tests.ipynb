{
 "cells": [
  {
   "cell_type": "code",
   "execution_count": 1,
   "id": "a5375307",
   "metadata": {},
   "outputs": [],
   "source": [
    "import simpy\n",
    "import random\n"
   ]
  },
  {
   "cell_type": "code",
   "execution_count": 2,
   "id": "6cebbc10",
   "metadata": {},
   "outputs": [],
   "source": [
    "def incident(env, incident_id, engine,time_engaged,time_of_incident):\n",
    "     # Incidents arriving\n",
    "     yield env.timeout(time_of_incident)\n",
    "     print('%s occurred at %d' % (incident_id, env.now))\n",
    "     # Request one of the engines\n",
    "     with engine.get() as req:\n",
    "         # engine responds to incident\n",
    "         yield req\n",
    "         print('%s starting response to %s at %s' % (req.value,incident_id, env.now))\n",
    "         # incident is cleared\n",
    "         yield env.timeout(time_engaged)\n",
    "         print('%s cleared at %s' % (incident_id, env.now))\n",
    "         engine.put(req.value)"
   ]
  },
  {
   "cell_type": "code",
   "execution_count": 3,
   "id": "9c8589af",
   "metadata": {},
   "outputs": [],
   "source": [
    "env = simpy.Environment()\n"
   ]
  },
  {
   "cell_type": "markdown",
   "id": "adf24508",
   "metadata": {},
   "source": [
    "## Example with Priority Store"
   ]
  },
  {
   "cell_type": "code",
   "execution_count": 4,
   "id": "15be8d8c",
   "metadata": {},
   "outputs": [
    {
     "data": {
      "text/plain": [
       "<StorePut() object at 0x133766c27c0>"
      ]
     },
     "execution_count": 4,
     "metadata": {},
     "output_type": "execute_result"
    }
   ],
   "source": [
    "#define engines\n",
    "engines = simpy.PriorityStore(env,capacity = 2)\n",
    "engines.put(simpy.PriorityItem(1,'Engine 1'))\n",
    "engines.put(simpy.PriorityItem(0,'Engine 2'))"
   ]
  },
  {
   "cell_type": "code",
   "execution_count": 5,
   "id": "ee905d0f",
   "metadata": {},
   "outputs": [
    {
     "name": "stdout",
     "output_type": "stream",
     "text": [
      "Incident 0 occurred at 0\n",
      "PriorityItem(priority=0, item='Engine 2') starting response to Incident 0 at 0\n",
      "Incident 1 occurred at 2\n",
      "PriorityItem(priority=1, item='Engine 1') starting response to Incident 1 at 2\n",
      "Incident 2 occurred at 4\n",
      "Incident 0 cleared at 5\n",
      "PriorityItem(priority=0, item='Engine 2') starting response to Incident 2 at 5\n",
      "Incident 3 occurred at 6\n",
      "Incident 1 cleared at 7\n",
      "PriorityItem(priority=1, item='Engine 1') starting response to Incident 3 at 7\n",
      "Incident 2 cleared at 10\n",
      "Incident 3 cleared at 12\n"
     ]
    }
   ],
   "source": [
    "time_engaged = 5\n",
    "for i in range(4):\n",
    "    env.process(incident(env, 'Incident %d' % i, engines,time_engaged,i*2))\n",
    "env.run()"
   ]
  },
  {
   "cell_type": "markdown",
   "id": "58225e1b",
   "metadata": {},
   "source": [
    "## Example with Priority Resource"
   ]
  },
  {
   "cell_type": "code",
   "execution_count": 44,
   "id": "fe0b1b98",
   "metadata": {},
   "outputs": [],
   "source": [
    "engine1 = simpy.PriorityResource(env,capacity = 1)\n"
   ]
  },
  {
   "cell_type": "code",
   "execution_count": 45,
   "id": "3bb5cd27",
   "metadata": {},
   "outputs": [
    {
     "data": {
      "text/plain": [
       "<PriorityRequest() object at 0x13376784160>"
      ]
     },
     "execution_count": 45,
     "metadata": {},
     "output_type": "execute_result"
    }
   ],
   "source": [
    "engine1.request(priority=1)\n",
    "engine1.request(priority=3)\n",
    "engine1.request(priority=2)\n"
   ]
  },
  {
   "cell_type": "code",
   "execution_count": 46,
   "id": "89f81d41",
   "metadata": {},
   "outputs": [
    {
     "data": {
      "text/plain": [
       "[]"
      ]
     },
     "execution_count": 46,
     "metadata": {},
     "output_type": "execute_result"
    }
   ],
   "source": [
    "engine1.GetQueue()"
   ]
  },
  {
   "cell_type": "code",
   "execution_count": 47,
   "id": "acd9e8b6",
   "metadata": {},
   "outputs": [
    {
     "data": {
      "text/plain": [
       "[<PriorityRequest() object at 0x13376784160>,\n",
       " <PriorityRequest() object at 0x133767840d0>]"
      ]
     },
     "execution_count": 47,
     "metadata": {},
     "output_type": "execute_result"
    }
   ],
   "source": [
    "engine1.queue"
   ]
  },
  {
   "cell_type": "markdown",
   "id": "fa693244",
   "metadata": {},
   "source": [
    "#### requests are queued by priority, not by order of arrival"
   ]
  },
  {
   "cell_type": "code",
   "execution_count": 53,
   "id": "56a2e690",
   "metadata": {},
   "outputs": [
    {
     "data": {
      "text/plain": [
       "(2, 3)"
      ]
     },
     "execution_count": 53,
     "metadata": {},
     "output_type": "execute_result"
    }
   ],
   "source": [
    "engine1.queue[0].priority,engine1.queue[1].priority"
   ]
  },
  {
   "cell_type": "markdown",
   "id": "d78c673a",
   "metadata": {},
   "source": [
    "## Priority Store with Filter"
   ]
  },
  {
   "cell_type": "code",
   "execution_count": 109,
   "id": "ba1556b3",
   "metadata": {},
   "outputs": [],
   "source": [
    "engines = simpy.FilterStore(env,capacity = 2)\n"
   ]
  },
  {
   "cell_type": "markdown",
   "id": "0b989bed",
   "metadata": {},
   "source": [
    "#### This will get engine 2 first because of the filter within get"
   ]
  },
  {
   "cell_type": "code",
   "execution_count": 110,
   "id": "ae9b8da4",
   "metadata": {},
   "outputs": [
    {
     "name": "stdout",
     "output_type": "stream",
     "text": [
      "['Engine 1', 'Engine 2']\n"
     ]
    }
   ],
   "source": [
    "engines.put('Engine 1')\n",
    "engines.put('Engine 2')\n",
    "print(engines.items)\n",
    "a = engines.get(lambda x:x.split(' ')[1]=='2')\n"
   ]
  },
  {
   "cell_type": "code",
   "execution_count": 111,
   "id": "0dc3bc36",
   "metadata": {},
   "outputs": [
    {
     "data": {
      "text/plain": [
       "'Engine 2'"
      ]
     },
     "execution_count": 111,
     "metadata": {},
     "output_type": "execute_result"
    }
   ],
   "source": [
    "a.value"
   ]
  },
  {
   "cell_type": "markdown",
   "id": "8ec3ff7d",
   "metadata": {},
   "source": [
    "return Engine 2"
   ]
  },
  {
   "cell_type": "code",
   "execution_count": 112,
   "id": "243154c0",
   "metadata": {},
   "outputs": [
    {
     "data": {
      "text/plain": [
       "['Engine 1', 'Engine 2']"
      ]
     },
     "execution_count": 112,
     "metadata": {},
     "output_type": "execute_result"
    }
   ],
   "source": [
    "engines.put(a.value)\n",
    "engines.items"
   ]
  },
  {
   "cell_type": "markdown",
   "id": "981140b0",
   "metadata": {},
   "source": [
    "#### this will select engine 1 because no filter is specified"
   ]
  },
  {
   "cell_type": "code",
   "execution_count": 113,
   "id": "5910d4b4",
   "metadata": {},
   "outputs": [
    {
     "data": {
      "text/plain": [
       "'Engine 1'"
      ]
     },
     "execution_count": 113,
     "metadata": {},
     "output_type": "execute_result"
    }
   ],
   "source": [
    "a = engines.get()\n",
    "a.value"
   ]
  },
  {
   "cell_type": "markdown",
   "id": "b7b5a306",
   "metadata": {},
   "source": [
    "#### Insert 3 Engines and 1 Ambulance"
   ]
  },
  {
   "cell_type": "code",
   "execution_count": 192,
   "id": "17d5e66b",
   "metadata": {},
   "outputs": [],
   "source": [
    "class Apparatus:\n",
    "    def __init__(self,name,apparatus_type,als_bls,crew,base_station):\n",
    "        self.name       = name\n",
    "        self.unit_type  = apparatus_type\n",
    "        self.ems_type   = als_bls\n",
    "        self.crew_size  = crew\n",
    "        self.station    = base_station\n",
    "\n",
    "class Station:\n",
    "    def __init__(self,name,first_due_district):\n",
    "        self.name = name\n",
    "        self.area = first_due_district\n",
    "        \n",
    "# class Department"
   ]
  },
  {
   "cell_type": "code",
   "execution_count": 184,
   "id": "d75eae56",
   "metadata": {},
   "outputs": [],
   "source": [
    "stations = [Station('Station %s' % x, x) for x in range(1,4)]\n",
    "department_units = simpy.FilterStore(env, capacity = 4)"
   ]
  },
  {
   "cell_type": "code",
   "execution_count": 185,
   "id": "9be9f561",
   "metadata": {},
   "outputs": [
    {
     "data": {
      "text/plain": [
       "'Station 3'"
      ]
     },
     "execution_count": 185,
     "metadata": {},
     "output_type": "execute_result"
    }
   ],
   "source": [
    "stations[2].name"
   ]
  },
  {
   "cell_type": "code",
   "execution_count": 186,
   "id": "51fdb39a",
   "metadata": {},
   "outputs": [],
   "source": [
    "for i, station in enumerate(stations):\n",
    "    department_units.put(Apparatus('Engine %s' % (i+1),'engine','als', 4, station.name))"
   ]
  },
  {
   "cell_type": "code",
   "execution_count": 187,
   "id": "ff7fb0af",
   "metadata": {},
   "outputs": [
    {
     "name": "stdout",
     "output_type": "stream",
     "text": [
      "Engine 1 Station 1\n"
     ]
    }
   ],
   "source": [
    "print(department_units.items[0].name,department_units.items[0].station)"
   ]
  },
  {
   "cell_type": "code",
   "execution_count": 188,
   "id": "1ab1ea3b",
   "metadata": {},
   "outputs": [
    {
     "data": {
      "text/plain": [
       "<StorePut() object at 0x1337761d9d0>"
      ]
     },
     "execution_count": 188,
     "metadata": {},
     "output_type": "execute_result"
    }
   ],
   "source": [
    "department_units.put(Apparatus('Ambulance 1','ambulance','als',2,stations[0].name))"
   ]
  },
  {
   "cell_type": "code",
   "execution_count": 189,
   "id": "08b0421e",
   "metadata": {},
   "outputs": [
    {
     "name": "stdout",
     "output_type": "stream",
     "text": [
      "Ambulance 1 Station 1\n"
     ]
    }
   ],
   "source": [
    "print(department_units.items[-1].name,department_units.items[-1].station)"
   ]
  },
  {
   "cell_type": "code",
   "execution_count": 190,
   "id": "006df0e4",
   "metadata": {},
   "outputs": [],
   "source": [
    "incident = department_units.get(lambda x: x.unit_type == 'ambulance' or x.station == 'Station 2')"
   ]
  },
  {
   "cell_type": "code",
   "execution_count": 191,
   "id": "7ecc08ce",
   "metadata": {},
   "outputs": [
    {
     "data": {
      "text/plain": [
       "'Engine 2'"
      ]
     },
     "execution_count": 191,
     "metadata": {},
     "output_type": "execute_result"
    }
   ],
   "source": []
  },
  {
   "cell_type": "code",
   "execution_count": null,
   "id": "7f5d73e0",
   "metadata": {},
   "outputs": [],
   "source": []
  }
 ],
 "metadata": {
  "kernelspec": {
   "display_name": "Python 3",
   "language": "python",
   "name": "python3"
  },
  "language_info": {
   "codemirror_mode": {
    "name": "ipython",
    "version": 3
   },
   "file_extension": ".py",
   "mimetype": "text/x-python",
   "name": "python",
   "nbconvert_exporter": "python",
   "pygments_lexer": "ipython3",
   "version": "3.8.8"
  }
 },
 "nbformat": 4,
 "nbformat_minor": 5
}
